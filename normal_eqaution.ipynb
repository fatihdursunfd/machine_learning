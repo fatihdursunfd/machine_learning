{
  "nbformat": 4,
  "nbformat_minor": 0,
  "metadata": {
    "colab": {
      "name": "normal eqaution.ipynb",
      "provenance": [],
      "authorship_tag": "ABX9TyNjx9ov/cvhUaNVT7BE8g6H",
      "include_colab_link": true
    },
    "kernelspec": {
      "name": "python3",
      "display_name": "Python 3"
    }
  },
  "cells": [
    {
      "cell_type": "markdown",
      "metadata": {
        "id": "view-in-github",
        "colab_type": "text"
      },
      "source": [
        "<a href=\"https://colab.research.google.com/github/fatihdursunfd/machine_learning/blob/fd/normal_eqaution.ipynb\" target=\"_parent\"><img src=\"https://colab.research.google.com/assets/colab-badge.svg\" alt=\"Open In Colab\"/></a>"
      ]
    },
    {
      "cell_type": "code",
      "metadata": {
        "id": "1hU_ghXAbjmG"
      },
      "source": [
        "import numpy as np\n",
        "import matplotlib.pyplot as plt"
      ],
      "execution_count": null,
      "outputs": []
    },
    {
      "cell_type": "code",
      "metadata": {
        "id": "gBhFhMWRbqCO"
      },
      "source": [
        "#  training examples \n",
        "N = 100\n",
        "X = 2 * np.random.rand(N,1)\n",
        "Y = 4 +3 * X+np.random.randn(N,1)"
      ],
      "execution_count": null,
      "outputs": []
    },
    {
      "cell_type": "code",
      "metadata": {
        "id": "v6onG9JWbsM6",
        "colab": {
          "base_uri": "https://localhost:8080/",
          "height": 304
        },
        "outputId": "4fea4e9c-2c5d-4cec-9a34-4592f928a446"
      },
      "source": [
        "plt.plot(X,Y,'b.')\n",
        "plt.xlabel(\"X\", fontsize=18)\n",
        "plt.ylabel(\"Y\", rotation=0, fontsize=18)"
      ],
      "execution_count": null,
      "outputs": [
        {
          "output_type": "execute_result",
          "data": {
            "text/plain": [
              "Text(0, 0.5, 'Y')"
            ]
          },
          "metadata": {
            "tags": []
          },
          "execution_count": 3
        },
        {
          "output_type": "display_data",
          "data": {
            "image/png": "[encoded data removed]",
            "text/plain": [
              "<Figure size 432x288 with 1 Axes>"
            ]
          },
          "metadata": {
            "tags": [],
            "needs_background": "light"
          }
        }
      ]
    },
    {
      "cell_type": "code",
      "metadata": {
        "id": "E_gHGnDtbsuT",
        "colab": {
          "base_uri": "https://localhost:8080/",
          "height": 338
        },
        "outputId": "3f891b49-e9d7-4280-ca55-f1f486e817d9"
      },
      "source": [
        "# lineer regression with normal equation\n",
        "# normal equation formula https://media.geeksforgeeks.org/wp-content/uploads/Untitled-drawing-1-10.png\n",
        "# y = m * x + b\n",
        "# parameters[1] = m\n",
        "# parameters[0] = b\n",
        "\n",
        "x_n = np.c_[np.ones((N,1)),X]\n",
        "\n",
        "parameters  = np.linalg.inv(x_n.T.dot(x_n)).dot(x_n.T.dot(Y))\n",
        "print(parameters)\n",
        "\n",
        "h = np.array([i/100 for i in range(0,200)])\n",
        "H = h * parameters[1] + parameters[0]\n",
        "\n",
        "plt.plot(X,Y,'b.')\n",
        "plt.plot(h,H)\n",
        "plt.xlabel(\"X\", fontsize=18)\n",
        "plt.ylabel(\"Y\", rotation=0, fontsize=18)"
      ],
      "execution_count": null,
      "outputs": [
        {
          "output_type": "stream",
          "text": [
            "[[4.0113277 ]\n",
            " [2.98007781]]\n"
          ],
          "name": "stdout"
        },
        {
          "output_type": "execute_result",
          "data": {
            "text/plain": [
              "Text(0, 0.5, 'Y')"
            ]
          },
          "metadata": {
            "tags": []
          },
          "execution_count": 4
        },
        {
          "output_type": "display_data",
          "data": {
            "image/png": "[encoded data removed]",
            "text/plain": [
              "<Figure size 432x288 with 1 Axes>"
            ]
          },
          "metadata": {
            "tags": [],
            "needs_background": "light"
          }
        }
      ]
    },
    {
      "cell_type": "code",
      "metadata": {
        "id": "1Gn37n70b6Ml"
      },
      "source": [
        ""
      ],
      "execution_count": null,
      "outputs": []
    }
  ]
}