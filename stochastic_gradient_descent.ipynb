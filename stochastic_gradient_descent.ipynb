{
  "nbformat": 4,
  "nbformat_minor": 0,
  "metadata": {
    "colab": {
      "name": "stochastic_gradient_descent.ipynb",
      "provenance": [],
      "authorship_tag": "ABX9TyPN3uqvBlkRJxooVkvjzfLD",
      "include_colab_link": true
    },
    "kernelspec": {
      "name": "python3",
      "display_name": "Python 3"
    }
  },
  "cells": [
    {
      "cell_type": "markdown",
      "metadata": {
        "id": "view-in-github",
        "colab_type": "text"
      },
      "source": [
        "<a href=\"https://colab.research.google.com/github/fatihdursunfd/machine_learning/blob/fd/stochastic_gradient_descent.ipynb\" target=\"_parent\"><img src=\"https://colab.research.google.com/assets/colab-badge.svg\" alt=\"Open In Colab\"/></a>"
      ]
    },
    {
      "cell_type": "code",
      "metadata": {
        "id": "RmqriPK1w0Ul"
      },
      "source": [
        "import numpy as np\n",
        "import matplotlib.pyplot as plt"
      ],
      "execution_count": null,
      "outputs": []
    },
    {
      "cell_type": "code",
      "metadata": {
        "id": "pjOl6pIxxIbB"
      },
      "source": [
        "#  training examples \n",
        "N = 100\n",
        "X = 2 * np.random.rand(N,1)\n",
        "Y = -5 +  12 * X+np.random.randn(N,1)"
      ],
      "execution_count": null,
      "outputs": []
    },
    {
      "cell_type": "code",
      "metadata": {
        "id": "_DfPAJQixLd_",
        "colab": {
          "base_uri": "https://localhost:8080/",
          "height": 305
        },
        "outputId": "e6f9d009-66b3-4066-e763-7522475303e2"
      },
      "source": [
        "plt.plot(X,Y,'b.')\n",
        "plt.xlabel(\"X\", fontsize=18)\n",
        "plt.ylabel(\"Y\", rotation=0, fontsize=18)\n"
      ],
      "execution_count": null,
      "outputs": [
        {
          "output_type": "execute_result",
          "data": {
            "text/plain": [
              "Text(0, 0.5, 'Y')"
            ]
          },
          "metadata": {
            "tags": []
          },
          "execution_count": 21
        },
        {
          "output_type": "display_data",
          "data": {
            "image/png": "[encoded data removed]",
            "text/plain": [
              "<Figure size 432x288 with 1 Axes>"
            ]
          },
          "metadata": {
            "tags": [],
            "needs_background": "light"
          }
        }
      ]
    },
    {
      "cell_type": "code",
      "metadata": {
        "id": "5z1srUsRxNS7"
      },
      "source": [
        "def calculate_cost(theta , X , Y ):\n",
        "\n",
        "  m = len(Y)\n",
        "  prediction = X.dot(theta)\n",
        "  cost = (1/2*m) * np.sum(np.square(prediction-Y))\n",
        "  return cost"
      ],
      "execution_count": null,
      "outputs": []
    },
    {
      "cell_type": "code",
      "metadata": {
        "id": "ulhyViuixY_Q"
      },
      "source": [
        "def stochastic_gradient_descent(x , Y , thetas , learning_rate, iterations):\n",
        "\n",
        "    m = len(Y)\n",
        "    cost_history = np.zeros(iterations)\n",
        "    theta_history = np.zeros((iterations,2))\n",
        "\n",
        "    for it in range(iterations):\n",
        "        cost = 0.0\n",
        "        for j in range(m):\n",
        "          \n",
        "          random_i = np.random.randint(0,m)\n",
        "          X_i = x[random_i,:].reshape(1,x.shape[1])\n",
        "          Y_i = Y[random_i,:].reshape(1,1)\n",
        "          prediction = np.dot(X_i,thetas)\n",
        "          \n",
        "          thetas = thetas -(1/m)*learning_rate*( X_i.T.dot((prediction - Y_i)))\n",
        "          cost += calculate_cost(thetas,X_i,Y)\n",
        "\n",
        "        theta_history[it,:] = thetas.T\n",
        "        cost_history[it]  = cost\n",
        "        \n",
        "    return thetas, cost_history, theta_history"
      ],
      "execution_count": null,
      "outputs": []
    },
    {
      "cell_type": "code",
      "metadata": {
        "id": "W-TjYljSzNtk",
        "colab": {
          "base_uri": "https://localhost:8080/",
          "height": 68
        },
        "outputId": "999cbe1a-65b6-41a2-8af7-8382173c0245"
      },
      "source": [
        "iterations = 10000\n",
        "learning_rate = 0.01\n",
        "thetas = np.random.randn(2,1)\n",
        "x_n = np.c_[np.ones((len(X),1)),X]\n",
        "\n",
        "\n",
        "thetas , cost_history , theta_history = stochastic_gradient_descent(x_n,Y,thetas,learning_rate,iterations)\n",
        "\n",
        "print(\"theta 0 : \", thetas[0])\n",
        "print(\"theta 1 : \", thetas[1])\n",
        "print(\"last cost : \", cost_history[-1])"
      ],
      "execution_count": null,
      "outputs": [
        {
          "output_type": "stream",
          "text": [
            "theta 0 :  [-5.07609961]\n",
            "theta 1 :  [12.1439107]\n",
            "last cost :  52761317.19502676\n"
          ],
          "name": "stdout"
        }
      ]
    },
    {
      "cell_type": "code",
      "metadata": {
        "id": "4SsKHOMp0FPo",
        "colab": {
          "base_uri": "https://localhost:8080/",
          "height": 305
        },
        "outputId": "4cc303f1-047c-4f16-c6b9-3d385280bf80"
      },
      "source": [
        "h = np.array([i/100 for i in range(0,200)])\n",
        "H = h * thetas[1] + thetas[0]\n",
        "\n",
        "plt.plot(X,Y,'b.')\n",
        "plt.plot(h,H)\n",
        "plt.xlabel(\"X\", fontsize=18)\n",
        "plt.ylabel(\"Y\", rotation=0, fontsize=18)"
      ],
      "execution_count": null,
      "outputs": [
        {
          "output_type": "execute_result",
          "data": {
            "text/plain": [
              "Text(0, 0.5, 'Y')"
            ]
          },
          "metadata": {
            "tags": []
          },
          "execution_count": 28
        },
        {
          "output_type": "display_data",
          "data": {
            "image/png": "[encoded data removed]",
            "text/plain": [
              "<Figure size 432x288 with 1 Axes>"
            ]
          },
          "metadata": {
            "tags": [],
            "needs_background": "light"
          }
        }
      ]
    },
    {
      "cell_type": "code",
      "metadata": {
        "id": "HADqqm3e1H6l",
        "colab": {
          "base_uri": "https://localhost:8080/",
          "height": 494
        },
        "outputId": "7f97280b-1cdb-467a-aa42-b48d5481e6e3"
      },
      "source": [
        "fig,ax = plt.subplots(figsize=(10,8))\n",
        "_=ax.plot(range(100),cost_history[:100],'b.')"
      ],
      "execution_count": null,
      "outputs": [
        {
          "output_type": "display_data",
          "data": {
            "image/png": "[encoded data removed]",
            "text/plain": [
              "<Figure size 720x576 with 1 Axes>"
            ]
          },
          "metadata": {
            "tags": [],
            "needs_background": "light"
          }
        }
      ]
    },
    {
      "cell_type": "code",
      "metadata": {
        "id": "7Yj5aloJ1T8t",
        "colab": {
          "base_uri": "https://localhost:8080/",
          "height": 68
        },
        "outputId": "d259161b-96b9-4cef-ed12-176deebd3b0e"
      },
      "source": [
        "index = (min(cost_history))\n",
        "print(np.argmin(cost_history))\n",
        "print(cost_history[61])\n",
        "print(theta_history[61])"
      ],
      "execution_count": null,
      "outputs": [
        {
          "output_type": "stream",
          "text": [
            "61\n",
            "29093554.74950381\n",
            "[2.35552899 3.67811872]\n"
          ],
          "name": "stdout"
        }
      ]
    }
  ]
}