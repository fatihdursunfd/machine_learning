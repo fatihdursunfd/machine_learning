{
  "nbformat": 4,
  "nbformat_minor": 0,
  "metadata": {
    "colab": {
      "name": "least square method.ipynb",
      "provenance": [],
      "authorship_tag": "ABX9TyMfNvF6+t3PjnCCzHsc23hc",
      "include_colab_link": true
    },
    "kernelspec": {
      "name": "python3",
      "display_name": "Python 3"
    }
  },
  "cells": [
    {
      "cell_type": "markdown",
      "metadata": {
        "id": "view-in-github",
        "colab_type": "text"
      },
      "source": [
        "<a href=\"https://colab.research.google.com/github/fatihdursunfd/machine_learning/blob/fd/least_square_method.ipynb\" target=\"_parent\"><img src=\"https://colab.research.google.com/assets/colab-badge.svg\" alt=\"Open In Colab\"/></a>"
      ]
    },
    {
      "cell_type": "code",
      "metadata": {
        "id": "A6eBvhHSZtO3"
      },
      "source": [
        "import numpy as np\n",
        "import matplotlib.pyplot as plt"
      ],
      "execution_count": null,
      "outputs": []
    },
    {
      "cell_type": "code",
      "metadata": {
        "id": "vML1lBk_ajVS"
      },
      "source": [
        "#  training examples \n",
        "N = 100\n",
        "X = 2 * np.random.rand(N,1)\n",
        "Y = 4 +3 * X+np.random.randn(N,1)"
      ],
      "execution_count": null,
      "outputs": []
    },
    {
      "cell_type": "code",
      "metadata": {
        "id": "HZPaZ8CDam35",
        "colab": {
          "base_uri": "https://localhost:8080/",
          "height": 304
        },
        "outputId": "892ece6e-7625-4d1a-d730-2e607dc3f43f"
      },
      "source": [
        "plt.plot(X,Y,'b.')\n",
        "plt.xlabel(\"X\", fontsize=18)\n",
        "plt.ylabel(\"Y\", rotation=0, fontsize=18)\n"
      ],
      "execution_count": null,
      "outputs": [
        {
          "output_type": "execute_result",
          "data": {
            "text/plain": [
              "Text(0, 0.5, 'Y')"
            ]
          },
          "metadata": {
            "tags": []
          },
          "execution_count": 3
        },
        {
          "output_type": "display_data",
          "data": {
            "image/png": "[encoded data removed]",
            "text/plain": [
              "<Figure size 432x288 with 1 Axes>"
            ]
          },
          "metadata": {
            "tags": [],
            "needs_background": "light"
          }
        }
      ]
    },
    {
      "cell_type": "code",
      "metadata": {
        "id": "HZ7KNrUNaok9"
      },
      "source": [
        "# lineer regression with least square method\n",
        "# m =  N Σ(xy) − Σx ΣyN Σ(x^2) − (Σx)^2\n",
        "# b =  Σy − m ΣxN\n",
        "# y = m * x + b\n",
        "\n",
        "sum_x = sum(X)\n",
        "sum_y = sum(Y)\n",
        "sum_xplusy = sum(X*Y)\n",
        "sum_xsquare = sum(X*X)\n",
        "\n",
        "m = ( ( N *  sum_xplusy ) - (sum_x * sum_y) )  / ( ( N * sum_xsquare ) -  sum_x * sum_x )\n",
        "b = ( sum_y - (m * sum_x)) / ( N )\n"
      ],
      "execution_count": null,
      "outputs": []
    },
    {
      "cell_type": "code",
      "metadata": {
        "id": "wKv08ckVatbO",
        "colab": {
          "base_uri": "https://localhost:8080/",
          "height": 304
        },
        "outputId": "be792541-9db6-4adb-c970-60ce0ba7dbb6"
      },
      "source": [
        "h = np.array([i/100 for i in range(0,200)])\n",
        "H = h * m + b\n",
        "\n",
        "plt.plot(X,Y,'b.')\n",
        "plt.plot(h,H)\n",
        "plt.xlabel(\"X\", fontsize=18)\n",
        "plt.ylabel(\"Y\", fontsize=18)"
      ],
      "execution_count": null,
      "outputs": [
        {
          "output_type": "execute_result",
          "data": {
            "text/plain": [
              "Text(0, 0.5, 'Y')"
            ]
          },
          "metadata": {
            "tags": []
          },
          "execution_count": 5
        },
        {
          "output_type": "display_data",
          "data": {
            "image/png": "[encoded data removed]",
            "text/plain": [
              "<Figure size 432x288 with 1 Axes>"
            ]
          },
          "metadata": {
            "tags": [],
            "needs_background": "light"
          }
        }
      ]
    }
  ]
}